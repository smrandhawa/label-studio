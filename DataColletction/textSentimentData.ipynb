{
 "metadata": {
  "language_info": {
   "codemirror_mode": {
    "name": "ipython",
    "version": 3
   },
   "file_extension": ".py",
   "mimetype": "text/x-python",
   "name": "python",
   "nbconvert_exporter": "python",
   "pygments_lexer": "ipython3",
   "version": "3.6.9"
  },
  "orig_nbformat": 2,
  "kernelspec": {
   "name": "python369jvsc74a57bd0f85e131065c096ef549e1863c658d988d485fd2b021f85406803d5333babf23d",
   "display_name": "Python 3.6.9 64-bit ('3.6.9': pyenv)"
  },
  "metadata": {
   "interpreter": {
    "hash": "f85e131065c096ef549e1863c658d988d485fd2b021f85406803d5333babf23d"
   }
  }
 },
 "nbformat": 4,
 "nbformat_minor": 2,
 "cells": [
  {
   "cell_type": "code",
   "execution_count": 16,
   "metadata": {
    "tags": []
   },
   "outputs": [
    {
     "output_type": "stream",
     "name": "stdout",
     "text": [
      "Column names are tweet_id, sentiment, author, content\n101 Done\n"
     ]
    }
   ],
   "source": [
    "import csv\n",
    "import string\n",
    "import random\n",
    "import json\n",
    "def id_generator(size=6, chars=string.ascii_uppercase + string.digits):\n",
    "    return ''.join(random.choice(chars) for _ in range(size))\n",
    "\n",
    "f = open(\"text_emotion.csv\",encoding='utf-8')\n",
    "csv_reader = csv.DictReader(f, delimiter=',')\n",
    "line_count = 0\n",
    "count = 0\n",
    "AllTasks = []\n",
    "for row in csv_reader:\n",
    "    # print(row)\n",
    "    if line_count == 0:\n",
    "        print(f'Column names are {\", \".join(row)}')\n",
    "        line_count += 1\n",
    "        continue\n",
    "    if count > 100:\n",
    "        break    \n",
    "    if len(row['content']) > 100:\n",
    "        task = {}\n",
    "        task['text'] = row['content']\n",
    "        task['layout_id'] = 12 # change to 10\n",
    "        task['groundTruth'] = \" \"\n",
    "        task['format_type'] = 1\n",
    "        task['batch_id'] = 7 # change to 6\n",
    "        task['description'] = \" \"\n",
    "        task['id'] = count            \n",
    "\n",
    "        comData = {}    \n",
    "        comData['lead_time'] = 3.821\n",
    "        comData['result'] = []\n",
    "        comData['user'] = 0\n",
    "    \n",
    "        # {\"lead_time\": 3.821, \"result\": [{\"value\": {\"choices\": [\"motorcycle\", \"car\"]}, \"id\": \"GGQ0E5G\", \"from_name\":   \"choice\", \"to_name\": \"text\", \"type\": \"choices\"}], \"user\": 0}\n",
    "        choices = {} \n",
    "        choices['choices'] = [row['sentiment']]#set()\n",
    "        # choices['choices'].add(lowercatDict[an['category_id']])\n",
    "        myre = {}\n",
    "        myre['value'] = choices\n",
    "        myre['id'] = id_generator(7)  \n",
    "        myre['from_name'] = 'choice'\n",
    "        myre['to_name'] = 'text'\n",
    "        myre['type'] = 'choices'  \n",
    "        comData['result'].append(myre)\n",
    "\n",
    "        completion = {}\n",
    "        completion['task_id'] =count\n",
    "        completion['user_id'] = 0\n",
    "        completion['data'] =  json.dumps(comData)\n",
    "        completion['completed_at'] = 1616101190\n",
    "        completion['batch_id'] = 7 # // change ti to 6\n",
    "        completion['was_skipped'] = 0\n",
    "        task['completion'] =  completion\n",
    "        count = count + 1\n",
    "        AllTasks.append(task)\n",
    "\n",
    "todump = {}\n",
    "todump[\"tasks\"] = AllTasks\n",
    "# print(json.dumps(todump))\n",
    "with open('textSentimentData.json', 'w') as outfile:\n",
    "    json.dump(todump, outfile)\n",
    "# print(json.dumps(AllTasks, indent=2))\n",
    "print(count, \"Done\")"
   ]
  },
  {
   "cell_type": "code",
   "execution_count": 13,
   "metadata": {},
   "outputs": [
    {
     "output_type": "execute_result",
     "data": {
      "text/plain": [
       "{'anger',\n",
       " 'boredom',\n",
       " 'empty',\n",
       " 'enthusiasm',\n",
       " 'fun',\n",
       " 'happiness',\n",
       " 'hate',\n",
       " 'love',\n",
       " 'neutral',\n",
       " 'relief',\n",
       " 'sadness',\n",
       " 'surprise',\n",
       " 'worry'}"
      ]
     },
     "metadata": {},
     "execution_count": 13
    }
   ],
   "source": [
    "f2 = open(\"text_emotion.csv\",encoding='utf-8')\n",
    "csv_reader = csv.DictReader(f2, delimiter=',')\n",
    "line_count = 0\n",
    "count = 0\n",
    "choiceSet = set()\n",
    "\n",
    "for row in csv_reader:\n",
    "    choiceSet.add(row['sentiment'])\n",
    "choiceSet\n",
    "    "
   ]
  },
  {
   "cell_type": "code",
   "execution_count": null,
   "metadata": {},
   "outputs": [],
   "source": []
  }
 ]
}